{
  "nbformat": 4,
  "nbformat_minor": 0,
  "metadata": {
    "colab": {
      "provenance": [],
      "collapsed_sections": [
        "aSGob7p3pD3s"
      ],
      "authorship_tag": "ABX9TyMzefxqkyHvrSxHpyey9XoW",
      "include_colab_link": true
    },
    "kernelspec": {
      "name": "python3",
      "display_name": "Python 3"
    },
    "language_info": {
      "name": "python"
    }
  },
  "cells": [
    {
      "cell_type": "markdown",
      "metadata": {
        "id": "view-in-github",
        "colab_type": "text"
      },
      "source": [
        "<a href=\"https://colab.research.google.com/github/ApurbaKumarNath/dsa/blob/main/Data%20Structures/4_Queue.ipynb\" target=\"_parent\"><img src=\"https://colab.research.google.com/assets/colab-badge.svg\" alt=\"Open In Colab\"/></a>"
      ]
    },
    {
      "cell_type": "code",
      "source": [
        "import numpy as np"
      ],
      "metadata": {
        "id": "YHqVS-Nvl0l0"
      },
      "execution_count": null,
      "outputs": []
    },
    {
      "cell_type": "markdown",
      "source": [
        "\n",
        "\n",
        "```\n",
        "Stacks => Last in First out (LIFO). delete => tail, insert => tail.\n",
        "Queues => First in first out (FIFO). delete => head, insert => tail.\n",
        "head = front, tail = rear.\n",
        "\n",
        "```\n",
        "\n",
        "```\n",
        "Queue convention:\n",
        "insert = enqueue\n",
        "delete = dequeue\n",
        "```\n",
        "\n",
        "\n",
        "\n"
      ],
      "metadata": {
        "id": "gk7I7m6Vgeos"
      }
    },
    {
      "cell_type": "markdown",
      "source": [
        "## From CampusX"
      ],
      "metadata": {
        "id": "5u80ZpBBl7jr"
      }
    },
    {
      "cell_type": "code",
      "execution_count": null,
      "metadata": {
        "id": "BgygYefXevnt"
      },
      "outputs": [],
      "source": [
        "class Node:\n",
        "  def __init__(self, value):\n",
        "    self.data = value\n",
        "    self.next = None"
      ]
    },
    {
      "cell_type": "code",
      "source": [
        "class Queue:\n",
        "  def __init__(self):\n",
        "    self.front = None\n",
        "    self.rear = None\n",
        "\n",
        "  def enqueue(self, value):\n",
        "    new = Node(value)\n",
        "\n",
        "    if self.front == None and self.rear == None:\n",
        "      self.front = new\n",
        "      self.rear = new\n",
        "    else:\n",
        "      self.rear.next = new\n",
        "      self.rear = new\n",
        "\n",
        "  def dequeue(self):\n",
        "    if self.front == None and self.rear == None:\n",
        "      print(\"Empty\")\n",
        "\n",
        "    elif self.front == self.rear:\n",
        "      popped = self.front\n",
        "      self.front = None\n",
        "      self.rear = None\n",
        "      return popped.data\n",
        "\n",
        "    else:\n",
        "      popped = self.front\n",
        "      self.front = self.front.next\n",
        "      return popped.data\n",
        "\n",
        "\n",
        "  def is_empty(self):\n",
        "    return self.front == None\n",
        "\n",
        "  def get_front(self):\n",
        "    if self.front == None:\n",
        "      return \"Empty\"\n",
        "    else:\n",
        "      return self.front.data\n",
        "\n",
        "  def get_rear(self):\n",
        "    if self.rear == None:\n",
        "      return \"Empty\"\n",
        "    else:\n",
        "      return self.rear.data\n",
        "\n",
        "  def size(self):\n",
        "    temp = self.front\n",
        "    count = 0\n",
        "    while temp != None:\n",
        "      count += 1\n",
        "      temp = temp.next\n",
        "    return count\n",
        "\n",
        "  def traverse(self):\n",
        "    temp = self.front\n",
        "    while temp != None:\n",
        "      print(temp.data, end = ' ')\n",
        "      temp = temp.next\n",
        "    print()\n",
        "\n",
        "# Do it yourself: implement size parameter. e.g. __init__(self, size)"
      ],
      "metadata": {
        "id": "b54j-lVVBr85"
      },
      "execution_count": null,
      "outputs": []
    },
    {
      "cell_type": "code",
      "source": [
        "# test\n",
        "\n",
        "q = Queue()\n",
        "q.enqueue(1)\n",
        "q.enqueue(2)\n",
        "q.enqueue(3)\n",
        "q.traverse() # Output: 1 2 3\n",
        "print(\"Size:\", q.size()) # Output: Size: 3\n",
        "print(\"Front:\", q.get_front()) # Output: Front: 1\n",
        "print(\"Rear:\", q.get_rear()) # Output: Rear: 3\n",
        "q.dequeue()\n",
        "print(\"Front:\", q.get_front()) # Output: Front: 2\n",
        "q.dequeue()\n",
        "q.dequeue()\n",
        "print(\"Size:\", q.size()) # Output: Size: 0\n",
        "q.dequeue() # Output: Empty\n",
        "print(\"Front:\", q.get_front()) # Output: Front: Empty"
      ],
      "metadata": {
        "colab": {
          "base_uri": "https://localhost:8080/"
        },
        "id": "lkM_WUwSRAO3",
        "outputId": "184bbd9a-e034-459a-f2af-48f9e89c1fb2"
      },
      "execution_count": null,
      "outputs": [
        {
          "output_type": "stream",
          "name": "stdout",
          "text": [
            "1 2 3 \n",
            "Size: 3\n",
            "Front: 1\n",
            "Rear: 3\n",
            "Front: 2\n",
            "Size: 0\n",
            "Empty\n",
            "Front: Empty\n"
          ]
        }
      ]
    },
    {
      "cell_type": "code",
      "source": [
        "def fun(num, q):\n",
        "  if num == 0:\n",
        "    return 0\n",
        "  q.enqueue(num % 10)\n",
        "  res = fun(num // 10, q)\n",
        "  res = res * 10 + q.dequeue()\n",
        "  return res\n",
        "\n",
        "queue = Queue() # also, learn to use size parameter\n",
        "print(fun(123, queue))"
      ],
      "metadata": {
        "colab": {
          "base_uri": "https://localhost:8080/"
        },
        "id": "TzNdfPBCF16T",
        "outputId": "e528987c-c0ea-4cf6-8d06-0bc96b0c67b9"
      },
      "execution_count": null,
      "outputs": [
        {
          "output_type": "stream",
          "name": "stdout",
          "text": [
            "321\n"
          ]
        }
      ]
    },
    {
      "cell_type": "code",
      "source": [
        "#Write a program to print binary numbers from 1 to 10 using Queue.\n",
        "\n",
        "# without queue, simple recursion\n",
        "def print_binary_from_1_to_given(decimal):\n",
        "  for i in range(1, decimal + 1):\n",
        "    print(convert_to_binary(i))\n",
        "\n",
        "def convert_to_binary(decimal):\n",
        "  if decimal == 0:\n",
        "    return ''\n",
        "  return convert_to_binary(decimal // 2) + str(decimal % 2)\n",
        "\n",
        "print_binary_from_1_to_given(10)\n",
        "\n",
        "print('--------------------------------------------------------------')\n",
        "\n",
        "# with queue, another approach:\n",
        "def print_binary_from_1_to_given(decimal):\n",
        "  q = Queue()\n",
        "  q.enqueue(1) # also, q.enqueue('1')\n",
        "\n",
        "  for i in range(decimal):\n",
        "    front = q.dequeue()\n",
        "    print(front)\n",
        "    q.enqueue(front * 10) # also, q.enqueue(front + '0')\n",
        "    q.enqueue(front * 10 + 1) # also, q.enqueue(front + '1')\n",
        "\n",
        "print_binary_from_1_to_given(10)"
      ],
      "metadata": {
        "colab": {
          "base_uri": "https://localhost:8080/"
        },
        "id": "ZaSVhjhycywm",
        "outputId": "f6c4d98a-c134-478f-9167-ea48a41ac588"
      },
      "execution_count": null,
      "outputs": [
        {
          "output_type": "stream",
          "name": "stdout",
          "text": [
            "1\n",
            "10\n",
            "11\n",
            "100\n",
            "101\n",
            "110\n",
            "111\n",
            "1000\n",
            "1001\n",
            "1010\n",
            "--------------------------------------------------------------\n",
            "1\n",
            "10\n",
            "11\n",
            "100\n",
            "101\n",
            "110\n",
            "111\n",
            "1000\n",
            "1001\n",
            "1010\n"
          ]
        }
      ]
    },
    {
      "cell_type": "markdown",
      "source": [
        "### Problem: You don't have Queue (class code), but you have 2 Stacks. Now, how can you get the behavior of a Queue (enqueue and dequeue) from those 2 Stacks?"
      ],
      "metadata": {
        "id": "tp0z7ScGRa3C"
      }
    },
    {
      "cell_type": "markdown",
      "source": [
        "#### So, the stack class:"
      ],
      "metadata": {
        "id": "aSGob7p3pD3s"
      }
    },
    {
      "cell_type": "code",
      "source": [
        "class Node:\n",
        "  def __init__(self, elem = None, next = None):\n",
        "    self.elem = elem\n",
        "    self.next = next\n",
        "\n",
        "class Stack:\n",
        "  def __init__(self):\n",
        "    self.top = None\n",
        "\n",
        "  def is_empty(self):\n",
        "    return self.top == None\n",
        "\n",
        "  def push(self, elem):\n",
        "    self.top = Node(elem, self.top)\n",
        "\n",
        "  def peek(self):\n",
        "    if self.is_empty():\n",
        "      return None\n",
        "    return self.top.elem\n",
        "\n",
        "  def pop(self):\n",
        "    if self.is_empty():\n",
        "      print('Stack Empty')\n",
        "    else:\n",
        "      store = self.top.elem\n",
        "      self.top = self.top.next\n",
        "      return store\n",
        "\n",
        "  def traverse(self):\n",
        "    temp = self.top\n",
        "    while temp != None:\n",
        "      print(temp.elem)\n",
        "      temp = temp.next\n",
        "\n",
        "  def size(self):\n",
        "    temp = self.top\n",
        "    count = 0\n",
        "    while temp != None:\n",
        "      count += 1\n",
        "      temp = temp.next\n",
        "    return count\n",
        "\n"
      ],
      "metadata": {
        "id": "S0LRTZiSalFu"
      },
      "execution_count": 11,
      "outputs": []
    },
    {
      "cell_type": "markdown",
      "source": [
        "#### Solution:"
      ],
      "metadata": {
        "id": "OzvO8Ph0pJri"
      }
    },
    {
      "cell_type": "code",
      "source": [
        "class QueueUsingStack:\n",
        "  def __init__(self):\n",
        "    self.s1 = Stack()\n",
        "    self.s2 = Stack()\n",
        "\n",
        "  def enqueue(self, value):\n",
        "    self.s1.push(value)\n",
        "\n",
        "  def dequeue(self):\n",
        "    while not self.s1.is_empty():\n",
        "      self.s2.push(self.s1.pop())\n",
        "    output = self.s2.pop()\n",
        "\n",
        "    while not self.s2.is_empty():\n",
        "      self.s1.push(self.s2.pop())\n",
        "\n",
        "    return output\n",
        "\n",
        "  def traverse(self):\n",
        "    while not self.s1.is_empty():\n",
        "      self.s2.push(self.s1.pop())\n",
        "    self.s2.traverse()\n",
        "\n",
        "    while not self.s2.is_empty():\n",
        "      self.s1.push(self.s2.pop())"
      ],
      "metadata": {
        "id": "BXsSL-UlRvwt"
      },
      "execution_count": 17,
      "outputs": []
    },
    {
      "cell_type": "code",
      "source": [
        "#test cases:\n",
        "\n",
        "q = QueueUsingStack()\n",
        "q.enqueue(1)\n",
        "q.enqueue(2)\n",
        "q.enqueue(3)\n",
        "q.traverse()\n",
        "print('---------------')\n",
        "print(q.dequeue())\n",
        "print('---------------')\n",
        "q.traverse()\n",
        "print('---------------')\n",
        "q.enqueue(4)\n",
        "q.traverse()\n",
        "\n",
        "for i in range(4):\n",
        "  q.dequeue()"
      ],
      "metadata": {
        "colab": {
          "base_uri": "https://localhost:8080/"
        },
        "id": "zuZWWN5it7-p",
        "outputId": "2f1fbe0b-13c1-4029-bc91-cd3cb3fb0f5e"
      },
      "execution_count": 19,
      "outputs": [
        {
          "output_type": "stream",
          "name": "stdout",
          "text": [
            "1\n",
            "2\n",
            "3\n",
            "---------------\n",
            "1\n",
            "---------------\n",
            "2\n",
            "3\n",
            "---------------\n",
            "2\n",
            "3\n",
            "4\n",
            "Stack Empty\n"
          ]
        }
      ]
    }
  ]
}